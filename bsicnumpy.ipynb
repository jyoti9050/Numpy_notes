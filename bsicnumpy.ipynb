{
 "cells": [
  {
   "cell_type": "code",
   "execution_count": 27,
   "metadata": {},
   "outputs": [
    {
     "name": "stdout",
     "output_type": "stream",
     "text": [
      "numpy is a module or library for scientific computing and it contains powerful n -dim array object and tools for integrating with c or c++ and in linear alegbra for fouriour transform and random number capabilities \n",
      " \n",
      "it can be used as a multi-dim container for generic data. \n",
      "numpy use contigous memory concept and each element are store in same block size of memory.\n"
     ]
    }
   ],
   "source": [
    "print(\"numpy is a module or library for scientific computing and it contains powerful n -dim array object and tools for integrating with c or c++ and in linear alegbra for fouriour transform and random number capabilities \\n \")\n",
    "print(\"it can be used as a multi-dim container for generic data. \")\n",
    "print(\"numpy use contigouos memory concept and each element are store in same block size of memory.\")"
   ]
  },
  {
   "cell_type": "code",
   "execution_count": null,
   "metadata": {},
   "outputs": [],
   "source": [
    "import numpy as np\n",
    "#pandas and numpy both are core structure to handle the data,and both are use for dealing with data \n",
    "#scipy deals for modelling data\n",
    "print(\"numpy stands for numerical python,\\n it is the package for mathematical computing.\\n logical operations on arrays.\\\"data in the matrices form means rows and column\")\n",
    "#basic ndarray\n",
    "print(\" deals with multidimensional array,how to represent data \")\n",
    "print(\"homogenous collection of data\")\n",
    "print(\"fast and efficient\")\n",
    "print(\"support for mathematical functions\")\n"
   ]
  },
  {
   "cell_type": "code",
   "execution_count": 1,
   "metadata": {},
   "outputs": [
    {
     "name": "stdout",
     "output_type": "stream",
     "text": [
      "this is 1-dim array::: [1 2 3]\n",
      "[10  2  3]\n",
      "\n",
      "\n",
      "this is a 2-dim array [[1 2 3]\n",
      " [4 5 6]]\n",
      "Creating an array from tuple [1 3 2]\n",
      "[1. 2. 3.]\n"
     ]
    }
   ],
   "source": [
    "import numpy as np \n",
    "a1=np.array([1,2,3])\n",
    "print(\"this is 1-dim array:::\",a1)\n",
    "a1[0]=10.3   #if we will assign float value then it will take round about value\n",
    "\n",
    "print(a1) #numpy is mutable ,means once we create then we can easily change the value \n",
    "print('\\n')\n",
    "\n",
    "\n",
    "a2=np.array([(1,2,3),(4,5,6)])\n",
    "print(\"this is a 2-dim array\",a2)\n",
    "\n",
    "\n",
    "arr3 = np.array((1, 3, 2))\n",
    "print(\"Creating an array from tuple\",arr3)\n",
    "\n",
    "\n",
    "arr4=np.array((1,2,3),dtype=np.float64)\n",
    "print(arr4)"
   ]
  },
  {
   "cell_type": "code",
   "execution_count": 3,
   "metadata": {},
   "outputs": [
    {
     "name": "stdout",
     "output_type": "stream",
     "text": [
      "dimensional array is  2\n",
      "shape of an array in the form of n*m means rows*column (2, 3)\n",
      "total number of elements  6\n",
      "type of an array  int32\n",
      "itemsize of each element in bytes  4\n",
      "the buffer containing the actual elements of the array <memory at 0x000002BEC3D4FC18>\n",
      "tell the total elemnt size in bytes 24\n"
     ]
    }
   ],
   "source": [
    "#numpy attributes \n",
    "import numpy as np\n",
    "a=np.array([(1,2,3),(3,4,5)])\n",
    "\n",
    "print(\"dimensional of array is \",a.ndim)\n",
    "\n",
    "a=np.array([(1,2,3),(3,4,5)])\n",
    "print(\"shape of an array in the form of n*m means rows*column\",a.shape)\n",
    "\n",
    "print(\"total number of elements \",a.size)\n",
    "\n",
    "print(\"type of an array \",a.dtype)\n",
    "\n",
    "print(\"itemsize of each element in bytes \",a.itemsize)\n",
    "\n",
    "print(\"the buffer containing the actual elements of the array\",a.data)\n",
    "\n",
    "print(\"tell the total element size in bytes 4(bytes)*6(element)*\",a.nbytes)"
   ]
  },
  {
   "cell_type": "code",
   "execution_count": null,
   "metadata": {},
   "outputs": [],
   "source": [
    "#from numpy matrix to numpy array\n",
    "np.array(np.mat('1 2;3 4;5 6'))\n",
    "\n",
    "#type precedence :bool,int ,str,float "
   ]
  },
  {
   "cell_type": "markdown",
   "metadata": {},
   "source": [
    "# Type casting /type conversion"
   ]
  },
  {
   "cell_type": "code",
   "execution_count": null,
   "metadata": {},
   "outputs": [],
   "source": [
    "a=np.array([1,2,3.0])\n",
    "#type casting means just like in list we have homogenous data it will take as it is but in array any one of value is another type then it will change all other data type automatically \n",
    "\n",
    "#in this example a have float value if we will print this it will print float value all \n",
    "print(a)\n",
    "print(\"\\n\")\n",
    "#how to control this behaviour :we can explicitly defined data type \n",
    "print(np.array([1,2,3],dtype=float))\n",
    "print(np.array([1,2,3],dtype=complex))\n",
    "print(np.array([1234,4,5],dtype='U'))  #'U' STRING TYPE \n",
    "print(np.array([1234,2,3],dtype='<U2'))\n",
    "\n",
    "print(\"*****example***********\")\n",
    "x=np.array([('ram',26,2300.0),('shivam',31,5000)],dtype=[('name','<U11'),('age','int32'),('salary','<f4')])\n",
    "print(\"row1\",x[0])\n",
    "print(\"row2\",x[1])\n"
   ]
  },
  {
   "cell_type": "code",
   "execution_count": 7,
   "metadata": {},
   "outputs": [
    {
     "name": "stdout",
     "output_type": "stream",
     "text": [
      "28000\n",
      "4000\n",
      "\n",
      " speed and convenient\n",
      "0.0\n",
      "time taken by array 0.0\n"
     ]
    }
   ],
   "source": [
    "#why we use numpy \n",
    "import numpy as np \n",
    "import time\n",
    "import sys\n",
    "list1=range(1000)\n",
    "print(sys.getsizeof(5)*len(list1))\n",
    "nump1=np.arange(1000)\n",
    "print(nump1.size*nump1.itemsize)\n",
    "print(\"\\n speed and convenient\")\n",
    "size=10000\n",
    "l1=range(size)\n",
    "l2=range(size)\n",
    "start=time.time()\n",
    "result=[(x+y) for x,y in zip(l1,l2)]\n",
    "print((time.time()-start)*1000)\n",
    "\n",
    "a1=np.arange(size)\n",
    "a2=np.arange(size)\n",
    "start=time.time()\n",
    "result=a1+a2\n",
    "print(\"time taken by array\",(time.time()-start)*1000)"
   ]
  },
  {
   "cell_type": "code",
   "execution_count": 15,
   "metadata": {},
   "outputs": [
    {
     "name": "stdout",
     "output_type": "stream",
     "text": [
      "each time it will generate random value betwen 0 and 1 0.5746525412707331\n",
      "it will generate only 1 number  each time  4.125783822185795\n",
      "randint will generate only 1 whole number 5\n",
      "hello\n",
      "['red', 'red', 'red', 'red', 'red', 'black', 'black', 'red', 'red', 'green']\n",
      "\n",
      "\n",
      "[1, 10, 41, 11, 17, 4, 14, 32, 31, 3, 29, 2, 36, 22, 12, 51, 47, 21, 7, 42, 16, 37, 30, 35, 6, 20, 13, 33, 27, 19, 28, 50, 40, 49, 52, 38, 5, 43, 24, 25, 39, 34, 15, 23, 44, 26, 8, 46, 48, 9, 18, 45]\n",
      "****************************************\n",
      "[3, 29, 50, 16, 43]\n",
      "\n",
      "20 samples drwan from a dice throw\n",
      "[1 6 5 4 3 1 1 2 2 6 1 4 6 5 3 1 2 4 1 1]\n"
     ]
    }
   ],
   "source": [
    "#Python Program to Generate a Random Number\n",
    "import random\n",
    "values=random.random() \n",
    "print(\"each time it will generate random value betwen 0 and 1\",values)#when a,b values is not specify then it will print random values between 0 to 1\n",
    "\n",
    "\n",
    "values2=random.uniform(1,6) #uniform(a,b) is use to print floating point number\n",
    "print(\"it will generate only 1 number  each time \",values2)\n",
    "\n",
    "values3=random.randint(1,6)#randint is use to generate number in whole number \n",
    "print(\"randint will generate only 1 whole number\",values3)\n",
    "\n",
    "\n",
    "#choice method is use to pick only 1 random values from the list \n",
    "lis=[\"hello\",\"hy\",\"ajay\",\"karan\",\"jyoti\",\"vaibhav\"]\n",
    "value=random.choice(lis)\n",
    "print(value)\n",
    "\n",
    "\n",
    "\n",
    "\n",
    "colors=[\"red\",\"black\",\"green\"]\n",
    "result=random.choices(colors,weights=[18,18,2],k=10)\n",
    "print(result)\n",
    "\n",
    "print(\"\\n\")\n",
    "#deck of cards \n",
    "import random\n",
    "deck=list(range(1,53))       \n",
    "random.shuffle(deck)\n",
    "print(deck)\n",
    "\n",
    "\n",
    "print(\"****************************************\")\n",
    "hand=random.sample(deck,k=5)  #sample() will give in result as a unique value but choices will give repeteadly values \n",
    "print(hand)\n",
    "\n",
    "\n",
    "print(\"\\n20 samples drwan from a dice throw\")\n",
    "print(np.random.randint(1,7,20))\n"
   ]
  },
  {
   "cell_type": "markdown",
   "metadata": {},
   "source": [
    "# numpy important function "
   ]
  },
  {
   "cell_type": "code",
   "execution_count": 5,
   "metadata": {
    "scrolled": true
   },
   "outputs": [
    {
     "name": "stdout",
     "output_type": "stream",
     "text": [
      "***************\n",
      "******************************\n",
      "[[(0, 0) (0, 0)]\n",
      " [(0, 0) (0, 0)]]\n",
      "\n",
      "\n",
      "\n",
      "[[1 2 3]\n",
      " [5 6 7]]\n",
      "\n",
      "\n",
      "[2 7]\n"
     ]
    }
   ],
   "source": [
    "#array  creation routines \n",
    "#np.zeros(shape,order='C'/'F',dtype=None):creates an array full of zeros   C-COLUMN,F -ROW/shhape is just a tuple \n",
    "np.zeros( (3,4)) \n",
    "print(\"***************\")\n",
    "\n",
    "#np.ones(shape,order='C'/'F',dtype=None) creates an array full of ones \n",
    "np.ones( (2,3,4),dtype=np.int16)\n",
    "print(\"******************************\")\n",
    "\n",
    "\n",
    "#np.empty(shape,dtype,order):creates an array whose initial content is random \n",
    "np.empty((2,3))    #uninitialized output may vary \n",
    "\n",
    "\n",
    "#custom type\n",
    "x=np.zeros((2,2),dtype=[('x','i4'),('y','i4')])\n",
    "print(x)\n",
    "\n",
    "\n",
    "\n",
    "\n",
    "#np.eye(shape,k=0,dtype,order) :create an identity matrix with the shape bydefault float type \n",
    "np.eye(6)   #sqaure matrix :means rows and columns are same \n",
    "np.eye(6,k=1)\n",
    "\n",
    "print(\"\\n\\n\")\n",
    "arr=np.array([[1,2,3],[5,6,7]])\n",
    "print(arr)\n",
    "print(\"\\n\")\n",
    "print(np.diag(arr,k=1))    #diagonal of this array"
   ]
  },
  {
   "cell_type": "code",
   "execution_count": 42,
   "metadata": {},
   "outputs": [
    {
     "name": "stdout",
     "output_type": "stream",
     "text": [
      "steve gulia \n",
      "602 main St.,king haryana 13809\n",
      "stevegulia@bogusemail.com\n",
      "\n",
      "komal gulia \n",
      "406 high St.,eeric bihar 82139\n",
      "komalgulia@bogusemail.com\n",
      "\n",
      "ashok katiyar \n",
      "175 washington St.,atlantiics haryana 14944\n",
      "ashokkatiyar@bogusemail.com\n",
      "\n"
     ]
    }
   ],
   "source": [
    "#super simple module to create basic random data for tutorials\n",
    "import random\n",
    "f_name=[\"john\",\"jane\",\"corey\",\"travis\",\"davie\",\"kurt\",\"neil\",\"sam\",\"steve\",\"tom\",\"james\",\"karan\",\"vaibhav\",\"arjun\",\"taniya\",\"ashok\",\"viyan\",\"abhinav\",\"khusi\",\"anant\",\"komal\",\"naseeb\",\"lakshay\",\"prachi\",\"mayanak\",\"amit\",\"sumit\",\"dharambir\",\"ajay\",\"akash\"]\n",
    "last_name=[\"smith\",\"katiyar\",\"jenkins\",\"robinson\",\"gulia\",\"katiyar\",\"yadav\",\"daharan\",\"davis\",\"starut\",\"jacobs\",\"wright\",\"doe\"]\n",
    "street_names=[\"main\",\"high\",\"pearl\",\"oak\",\"pine\",\"cedar\",\"elm\",\"washington\"]\n",
    "fake_cities=[\"metropolis\",\"eeric\",\"king\",\"sunnydale\",\"bedrock\",\"southpark\",\"atlantiics\"]\n",
    "states=[\"haryana\",\"gujarat\",\"himachalpa s = 'hello world'\n",
    "rdesh\",\"andharpardesh\",\"assam\",\"kerala\",\"guhawati\",\"bihar\"]\n",
    "for num in range(3):\n",
    "    first=random.choice(f_name)\n",
    "    last=random.choice(last_name)\n",
    "    #phone=f\"{random.randint(100,999)}-555-{random.randint(1000,9999)}\"\n",
    "    street_num=random.randint(100,999)\n",
    "    street=random.choice(street_names)\n",
    "    city=random.choice(fake_cities)\n",
    "    state=random.choice(states)\n",
    "    zip_code=random.randint(10000,99999)\n",
    "    address=f\"{street_num} {street} St.,{city} {state} {zip_code}\"\n",
    "    email=first.lower()+last.lower()+ \"@bogusemail.com\"\n",
    "    print(f\"{first} {last} \\n{address}\\n{email}\\n\")\n"
   ]
  },
  {
   "cell_type": "code",
   "execution_count": 13,
   "metadata": {},
   "outputs": [
    {
     "name": "stdout",
     "output_type": "stream",
     "text": [
      "[1 2 3]\n"
     ]
    },
    {
     "data": {
      "text/plain": [
       "array([0., 1., 2., 3., 4.])"
      ]
     },
     "execution_count": 13,
     "metadata": {},
     "output_type": "execute_result"
    }
   ],
   "source": [
    "#numpy array from existing data \n",
    "\n",
    "\n",
    "#np.asarray(a,dtype,order=None)  :it will create array but it has less parameter \n",
    "import numpy as np\n",
    "x=[1,2,3]\n",
    "ar1=np.asarray(x)\n",
    "print(ar1)\n",
    "#np.frombuffer(buffer,dtype,count=-1,offset=0)  :this function interprets a buffer as 1-dim array,default=float,count=-1 no of items to be read,by default(-1),offset:starting position to read from (by deafult 0)\n",
    "s='Hello world'\n",
    "\n",
    "#a=np.frombuffer(s,dtype='S1')\n",
    "\n",
    "\n",
    "\n",
    "#np.fromiter(iterable,dtype,count=-1)::it builds an ndarray object from an iterable object.\n",
    "lis=range(5)\n",
    "it=iter(lis)\n",
    "x=np.fromiter(it,dtype=float)\n",
    "x"
   ]
  },
  {
   "cell_type": "markdown",
   "metadata": {},
   "source": [
    "# array from numerical ranges     range vs arange vs linspace"
   ]
  },
  {
   "cell_type": "code",
   "execution_count": 21,
   "metadata": {},
   "outputs": [
    {
     "name": "stdout",
     "output_type": "stream",
     "text": [
      "range example range(0, 10, 2)\n",
      "arange example [0 1 2 3 4 5 6 7 8 9]\n",
      "(array([ 0.        ,  1.16666667,  2.33333333,  3.5       ,  4.66666667,\n",
      "        5.83333333,  7.        ,  8.16666667,  9.33333333, 10.5       ]), 1.1666666666666667)\n",
      "[ 10.          12.91549665  16.68100537  21.5443469   27.82559402\n",
      "  35.93813664  46.41588834  59.94842503  77.42636827 100.        ]\n",
      "\n",
      "\n",
      "[   2.    4.    8.   16.   32.   64.  128.  256.  512. 1024.]\n"
     ]
    }
   ],
   "source": [
    "import numpy as np\n",
    "a=list(range(10))\n",
    "a     #it will create a list of the values what we want    \n",
    "#create only range  and does not accept float arguments \n",
    "print(list(range(11,0,-1)))\n",
    "\n",
    "\n",
    "\n",
    "\n",
    "\n",
    "\n",
    "#np.logspace(start,stop,num,endpoint,base,dtype)  base usually 10 \n",
    "a=np.logspace(1.0,2.0,num=10)\n",
    "print(a)\n",
    "b=np.logspace(1,10,num=10,base=2)\n",
    "\n",
    "print(\"\\n\")\n",
    "print(b)\n"
   ]
  },
  {
   "cell_type": "code",
   "execution_count": null,
   "metadata": {},
   "outputs": [],
   "source": [
    "#arange :np.arange(start,stop,step)   #it will give matrix and range will give output in the list format \n",
    "#to create a sequence of numbers ,Numpy provides a function analogous to range that returns that arrays \n",
    "import  numpy as np\n",
    "a=np.arange(10,100,5.4)   #not include stop element \n",
    "print(a)                  #accept float argument \n",
    "#when we use floating point argumnets ,generally it is impossible to predict no. of elements obtained thats why we use linsapce "
   ]
  },
  {
   "cell_type": "code",
   "execution_count": 6,
   "metadata": {},
   "outputs": [
    {
     "name": "stdout",
     "output_type": "stream",
     "text": [
      "linspace return  values within given interval\n",
      "(array([ 1. , 10.9, 20.8, 30.7, 40.6, 50.5, 60.4, 70.3, 80.2, 90.1]), 9.9)\n"
     ]
    },
    {
     "data": {
      "text/plain": [
       "<Figure size 640x480 with 1 Axes>"
      ]
     },
     "metadata": {},
     "output_type": "display_data"
    }
   ],
   "source": [
    "#np.linspace(start,stop,number,endpoint=Flase/True,restep=True,False,dtype)\n",
    "print(\"linspace return  values within given interval\")\n",
    "b=np.linspace(1,100,10,endpoint=False,retstep=True)\n",
    "print(b)\n",
    "#bydefaultendpoint=True it include stop element butvendpoint=False(not include last element) \n",
    "#when retstep=True   tell how much difference between each value \n",
    "\n",
    "\n",
    "import numpy as np\n",
    "import pandas as pd\n",
    "import matplotlib.pyplot as plt \n",
    "from math import pi,cos,sin\n",
    "x=np.linspace(0,2*pi,100)\n",
    "y=np.sin(x)\n",
    "plt.plot(y)\n",
    "plt.show()"
   ]
  },
  {
   "cell_type": "code",
   "execution_count": null,
   "metadata": {},
   "outputs": [],
   "source": [
    "print(np.arange(10000))   #it will print [0,1,2.......9999]  it's try to save memory\n",
    "#if size of array is very large ,Numpy automatically tries limit the printing on screen.we can override this behaviour by setting print options\n",
    "print(np.set_printoptions(threshold=1000))\n",
    "print(np.arange(1000))"
   ]
  },
  {
   "cell_type": "markdown",
   "metadata": {},
   "source": [
    "# BROADCASTING"
   ]
  },
  {
   "cell_type": "code",
   "execution_count": null,
   "metadata": {},
   "outputs": [],
   "source": [
    "#Broadcasting:in python we perform operation element wise now suppose we have 2 array of different shape 1 is small and another is large shape \n",
    "#means operation on non -similiar shapes array done by broad casting \n",
    "print(\"rule 1:::size of each dimesnion is same,size of 1 array should be 1 dim\")\n",
    "a=np.arange(12).reshape(3,4)\n",
    "print(a)\n",
    "b=np.arange(3).reshape(3,1)\n",
    "\n",
    "print(b)\n",
    "a+b"
   ]
  },
  {
   "cell_type": "markdown",
   "metadata": {},
   "source": [
    "# iterate numpy array using nditer"
   ]
  },
  {
   "cell_type": "code",
   "execution_count": 11,
   "metadata": {},
   "outputs": [
    {
     "name": "stdout",
     "output_type": "stream",
     "text": [
      "[[ 0  1  2  3]\n",
      " [ 4  5  6  7]\n",
      " [ 8  9 10 11]]\n",
      "[0 1 2 3]\n",
      "[4 5 6 7]\n",
      "[ 8  9 10 11]\n",
      "\n",
      "\n",
      "0\n",
      "1\n",
      "2\n",
      "3\n",
      "4\n",
      "5\n",
      "6\n",
      "7\n",
      "8\n",
      "9\n",
      "10\n",
      "11\n",
      "0,4,8,1,5,9,2,6,10,3,7,11,\n",
      "\n",
      "original array [[35 32]\n",
      " [37 28]\n",
      " [39 34]\n",
      " [33 36]\n",
      " [36 30]]\n",
      "35\n",
      "32\n",
      "37\n",
      "28\n",
      "39\n",
      "34\n",
      "33\n",
      "36\n",
      "36\n",
      "30\n"
     ]
    }
   ],
   "source": [
    "#iterate numpy array using nditer\n",
    "import numpy as np\n",
    "a=np.arange(12).reshape(3,4)\n",
    "print(a)\n",
    "\n",
    "\n",
    "\n",
    "for row in a: #simple for loop does not print all the elements one by one properly\n",
    "    print(row)\n",
    "#above we are using for loop for doing iteration , now we can do iteration easily without for loop in numpy \n",
    "\n",
    "print(\"\\n\")\n",
    "#same thing using nditer ():it provides more sophiticsted way to iterate \n",
    "for x in np.nditer(a,order='C'):  # C-row ,F-COLUMN \n",
    "    print(x)\n",
    "    \n",
    "    \n",
    "for x in np.nditer(a,order='F'):\n",
    "    print(x,end=\",\")\n",
    "print(\"\\n\")\n",
    "    \n",
    "    \n",
    "#looping over 2-dim (2d) array \n",
    "attendance=np.array([ [35,32],[37,28],[39,34],[33,36],[36,30]])\n",
    "print(\"original array\",attendance)\n",
    "\n",
    "for a in np.nditer(attendance):\n",
    "    print(a)"
   ]
  },
  {
   "cell_type": "markdown",
   "metadata": {},
   "source": [
    "# ARRAY MANIPULATION/changing shape "
   ]
  },
  {
   "cell_type": "code",
   "execution_count": 14,
   "metadata": {},
   "outputs": [
    {
     "name": "stdout",
     "output_type": "stream",
     "text": [
      "[[0 1 2 3 4]\n",
      " [5 6 7 8 9]]\n",
      "[[[ 0  1  2  3]\n",
      "  [ 4  5  6  7]\n",
      "  [ 8  9 10 11]]\n",
      "\n",
      " [[12 13 14 15]\n",
      "  [16 17 18 19]\n",
      "  [20 21 22 23]]]\n"
     ]
    }
   ],
   "source": [
    "#reshape method:give a new shape to an array without changing its data \n",
    "import numpy as np\n",
    "a=np.arange(10)\n",
    "print(np.arange(10).reshape(2,5))  #2rows*5column\n",
    "print(np.arange(24).reshape(2,3,4))   #3 d array "
   ]
  },
  {
   "cell_type": "code",
   "execution_count": 12,
   "metadata": {},
   "outputs": [
    {
     "name": "stdout",
     "output_type": "stream",
     "text": [
      "7\n"
     ]
    }
   ],
   "source": [
    "#np.flat():this function returns a 1-d iterator over the array  or it returns element corresponding to index in flatten array \n",
    "ar1=np.arange(8).reshape(2,4)\n",
    "print(ar1.flat[7])"
   ]
  },
  {
   "cell_type": "code",
   "execution_count": null,
   "metadata": {},
   "outputs": [],
   "source": [
    "#ravel(order='F'):IT returns contiguous flattened array(1d array)\n",
    "import numpy as np\n",
    "a=np.arange(15).reshape(3,5)\n",
    "print(\"original array\\n\",a)\n",
    "\n",
    "#output comes like [0,1,2,3....]\n",
    "print(a.ravel())\n",
    "print(a.reshape(-1))     #a.ravel() is equivalent to a.rehshape(-1)\n"
   ]
  },
  {
   "cell_type": "code",
   "execution_count": null,
   "metadata": {},
   "outputs": [],
   "source": [
    "#a.flatten(order='C','F'):IT returns a copy of an array collapsed into 1 dim \n",
    "a=np.arange(12).reshape(3,4)\n",
    "a.flatten()     #order='C' by default \n",
    "a.flatten(order='F')\n",
    "\n",
    "\n",
    "#difference between ravel and flatten \n",
    "print(\"ravel:return only reference/view of an original array,we will change in copy ,original array will also change,ravel is faster than flatten,and ravel is library -level function\")\n",
    "\n",
    "print(\"return a copy, original array will not change when we change in the copy array\")\n",
    "print(\"flatten is slower,it is a method of an ndarry object\")"
   ]
  },
  {
   "cell_type": "code",
   "execution_count": 13,
   "metadata": {},
   "outputs": [
    {
     "name": "stdout",
     "output_type": "stream",
     "text": [
      "[[ 0  1  2  3  4]\n",
      " [ 5  6  7  8  9]\n",
      " [10 11 12 13 14]]\n",
      "original array shape (3, 5)\n",
      "[[ 0  5 10]\n",
      " [ 1  6 11]\n",
      " [ 2  7 12]\n",
      " [ 3  8 13]\n",
      " [ 4  9 14]]\n",
      "[[ 0  5 10]\n",
      " [ 1  6 11]\n",
      " [ 2  7 12]\n",
      " [ 3  8 13]\n",
      " [ 4  9 14]]\n",
      "after transpose an array (5, 3)\n",
      "*****************\n",
      "[[ 0  5 10]\n",
      " [ 1  6 11]\n",
      " [ 2  7 12]\n",
      " [ 3  8 13]\n",
      " [ 4  9 14]]\n",
      "by default reverse the order but you can specify the order (3, 5)\n",
      "shape of original array (2, 3, 4)\n",
      "[[[ 0  1  2  3]\n",
      "  [12 13 14 15]]\n",
      "\n",
      " [[ 4  5  6  7]\n",
      "  [16 17 18 19]]\n",
      "\n",
      " [[ 8  9 10 11]\n",
      "  [20 21 22 23]]]\n",
      "shape after move axis (3, 2, 4)\n",
      "[[[ 0  4  8]\n",
      "  [ 1  5  9]\n",
      "  [ 2  6 10]\n",
      "  [ 3  7 11]]\n",
      "\n",
      " [[12 16 20]\n",
      "  [13 17 21]\n",
      "  [14 18 22]\n",
      "  [15 19 23]]]\n",
      "after swaping the axes (2, 4, 3)\n"
     ]
    }
   ],
   "source": [
    "import numpy as np\n",
    "#np.transpose(arr,axes)\n",
    "a=np.arange(15).reshape(3,5)\n",
    "print(a)\n",
    "\n",
    "\n",
    "print(\"original array shape\",a.shape)\n",
    "print(np.transpose(a))  \n",
    "print(a.T)  #a.T WILL work as np.transpose(a)\n",
    "print(\"after transpose an array\",a.T.shape)\n",
    "print(\"*****************\")\n",
    "\n",
    "#np.rollaxis(arr,axis,start)\n",
    "print(np.rollaxis(a,0,2))\n",
    "\n",
    "#print(\"row become column and column become row\",np.transpose(a,(2,1,0)))\n",
    "print(\"by default reverse the order but you can specify the order\",a.shape)\n",
    "\n",
    "\n",
    "#transmoveaxis\n",
    "a=np.arange(24).reshape(2,3,4)\n",
    "print(\"shape of original array\",a.shape)\n",
    "b=np.rollaxis(a,1,0)\n",
    "print(b)\n",
    "print(\"shape after move axis\",b.shape)\n",
    "\n",
    "\n",
    "\n",
    "#swap axis:\n",
    "c=np.swapaxes(a,2,1)\n",
    "print(c)\n",
    "print(\"after swaping the axes\",c.shape)"
   ]
  },
  {
   "cell_type": "markdown",
   "metadata": {},
   "source": [
    "# joining array "
   ]
  },
  {
   "cell_type": "code",
   "execution_count": 18,
   "metadata": {},
   "outputs": [
    {
     "name": "stdout",
     "output_type": "stream",
     "text": [
      "[[1 2 3]\n",
      " [4 5 6]]\n",
      "[[10 11 12]\n",
      " [13 14 15]]\n",
      "\n",
      "\n",
      "[[ 1  2  3 10 11 12]\n",
      " [ 4  5  6 13 14 15]]\n",
      "stack :: np.stack(array,axis=0/1)\n",
      "[[[ 1  2  3]\n",
      "  [10 11 12]]\n",
      "\n",
      " [[ 4  5  6]\n",
      "  [13 14 15]]]\n",
      "horizontal stack means ---- \n",
      "[[ 1  2  3 10 11 12]\n",
      " [ 4  5  6 13 14 15]]\n",
      "vertical stack means ||||\n",
      "[[ 1  2  3]\n",
      " [ 4  5  6]\n",
      " [10 11 12]\n",
      " [13 14 15]]\n"
     ]
    }
   ],
   "source": [
    "#np.concatenate(a1,a2,axis=0/1) ::combine two or more arrays \n",
    "a=np.array([[1,2,3],[4,5,6]])\n",
    "b=np.array([[10,11,12],[13,14,15]])\n",
    "\n",
    "print(a)\n",
    "print(b)\n",
    "print(\"\\n\")\n",
    "print(np.concatenate((a,b),axis=1))\n",
    "\n",
    "\n",
    "print(\"stack :: np.stack(array,axis=0/1)\")\n",
    "print(np.stack((a,b),axis=1))         #joins the sequence of arrays along a new axis\n",
    "print(\"horizontal stack means ---- \")\n",
    "print(np.hstack((a,b)))\n",
    "print(\"vertical stack means ||||\")\n",
    "print(np.vstack((a,b)))"
   ]
  },
  {
   "cell_type": "markdown",
   "metadata": {},
   "source": [
    "# argmax vs max"
   ]
  },
  {
   "cell_type": "code",
   "execution_count": null,
   "metadata": {},
   "outputs": [],
   "source": [
    "#difference between argmax and max \n",
    "a=np.array([[9,10,100],[20,30,40]])\n",
    "print(a)\n",
    "print(a.max(axis=0))     #0-column          #a.max(axis=None, out=None, keepdims=False)\n",
    "\n",
    "              #np.argmax(a, axis=None, out=None)\n",
    "#argmax() :return the indices of the maximum values along an axis\n",
    "print(np.argmax(a,axis=1))   #1 row \n",
    "\n",
    "#**********another example **********\n",
    "a=np.arange(6).reshape(2,3)+10\n",
    "print(a)\n",
    "print(\"another example\",np.argmax(a,axis=0))\n",
    "\n",
    "\n",
    "#when value is repaetedly then it will give 1st occurence index \n",
    "a=np.array([2,3,4,5,2])\n",
    "print(np.argmax(a))"
   ]
  },
  {
   "cell_type": "markdown",
   "metadata": {},
   "source": [
    "# string function "
   ]
  },
  {
   "cell_type": "code",
   "execution_count": 58,
   "metadata": {},
   "outputs": [
    {
     "name": "stdout",
     "output_type": "stream",
     "text": [
      "concatination\n",
      "['helloamit' 'hianant']\n",
      "*******hello********\n",
      "['Hello' 'World']\n",
      "['Hello']\n",
      "['amit' 'gulia']\n",
      "['hello ', ' how are you']\n"
     ]
    }
   ],
   "source": [
    "#concatination of character using numpy \n",
    "print(\"concatination\")\n",
    "print(np.char.add(['hello','hi'],['amit','anant']))\n",
    "print(np.char.center(\"hello\",20,fillchar=\"*\"))\n",
    "print(np.char.capitalize(['hello','world']))\n",
    "print(np.char.capitalize(['hELLO']))\n",
    "print(np.char.lower(['AMIT','GULIA']))\n",
    "print(np.char.splitlines(\"hello \\n how are you\"))"
   ]
  },
  {
   "cell_type": "markdown",
   "metadata": {},
   "source": [
    "# numpy mathematical functions  "
   ]
  },
  {
   "cell_type": "code",
   "execution_count": 19,
   "metadata": {},
   "outputs": [
    {
     "name": "stdout",
     "output_type": "stream",
     "text": [
      "[0.         0.5        0.70710678 0.8660254  1.        ]\n",
      "sin inverse values [0.         0.52359878 0.78539816 1.04719755 1.57079633]\n",
      "check result by converting to degrees [ 0. 30. 45. 60. 90.]\n",
      "******************************\n",
      "[ 0 30 40 60 90]\n",
      "*******************************************************\n",
      "[0.   0.52 0.79 1.05 1.57]\n",
      "[-2. -3.]\n",
      "[-1. -2.]\n"
     ]
    }
   ],
   "source": [
    "#numpy mathematical functions \n",
    "import numpy as np\n",
    "import math \n",
    "a=np.array([0,30,45,60,90])\n",
    "sin_value=np.sin(a*np.pi/180)  #firstly convert into radian \n",
    "print(sin_value)\n",
    "\n",
    "#now convert into  sin inverse of angles \n",
    "sin_inv=np.arcsin(sin_value)\n",
    "print(\"sin inverse values\",sin_inv)\n",
    "print(\"check result by converting to degrees\",np.degrees(sin_inv))\n",
    "\n",
    "print(\"******************************\")\n",
    "#np.around(,a,decimals=1,-1)\n",
    "b=np.array([1.00,5.55,0.567,25.532])\n",
    "print(np.around(a,decimals=-1))   #decimals default is 0 but if negative the integer is rounded to position to the left of the decimal point \n",
    "\n",
    "print(\"*******************************************************\")\n",
    "\n",
    "\n",
    "print(np.round(sin_inv,2))  #round(array,decimal=2) #upo how many point you want to print\n",
    "print(np.floor([-1.23,-2.345])) #np.floor(value) largest value print from he given value \n",
    "print(np.ceil([-1.23,-2.345]))  #np.ceil(value) print lowest value from the given value"
   ]
  },
  {
   "cell_type": "code",
   "execution_count": 45,
   "metadata": {},
   "outputs": [
    {
     "name": "stdout",
     "output_type": "stream",
     "text": [
      "4\n",
      "access element using index :::\n",
      "[0 1]\n",
      "\n",
      "\n",
      "[1 4 9]\n",
      "[10  8  6  4  2]\n",
      "6\n",
      "[ 0  1  2  3  4  5  6  7  8  9 10 11 12 13 14 15 16 17 18 19]\n",
      "[12 13 14 15 16]\n",
      "2 d array\n",
      " [[0 1 2]\n",
      " [3 4 5]]\n",
      "1,8,27,64,125,216,"
     ]
    }
   ],
   "source": [
    "#numpy array indexing and slicing  in 1 dim array \n",
    "import numpy as np\n",
    "a=np.arange(5)**2\n",
    "print(a[2])\n",
    "print(\"access element using index :::\")\n",
    "print(a[0:2])\n",
    "print('\\n')\n",
    "print(a[-4:-1])\n",
    "b=np.arange(10,1,-2)   #with negative step \n",
    "print(b)\n",
    "print(b[2])\n",
    "c=np.arange(0,20)\n",
    "print(c)\n",
    "print(c[-8:17:1])\n",
    "\n",
    "#2d array \n",
    "a=np.arange(6).reshape(2,3)\n",
    "print(\"2 d array\\n\",a)\n",
    "#iterating #cube of a number \n",
    "import numpy as np\n",
    "a=np.arange(1,7)\n",
    "for i in a:\n",
    "    print(i**3,end=\",\")"
   ]
  },
  {
   "cell_type": "code",
   "execution_count": 21,
   "metadata": {},
   "outputs": [
    {
     "name": "stdout",
     "output_type": "stream",
     "text": [
      "3\n",
      "[4 6]\n",
      "[ 4  6 10]\n",
      "[4 6]\n",
      "max according to rows(axis=0) [ 7  8  9 10]\n",
      "min according to column [1 3 7]\n",
      "sum according to rows [11 14 17 20]\n",
      "sum according to column [10 18 34]\n"
     ]
    }
   ],
   "source": [
    "#access the elements/slicing:selecting the item from the array \n",
    "a2=np.array([ [1,2,3,4],[3,4,5,6]]) #2 rows 4 column \n",
    "print(a2[0,2])\n",
    "print(a2[0:,3])  #acess from both the rows and column select 3 index\n",
    "a3=np.array([ [1,2,3,4],[3,4,5,6],[7,8,9,10]])\n",
    "print(a3[0:,3])\n",
    "print(a3[0:2,3])\n",
    "\n",
    "a=np.array([[1,2,3],[4,5,6,7],[100,200]])\n",
    "#axis rows(axis=0,column=axis=1)\n",
    "a3=np.array([ [1,2,3,4],[3,4,5,6],[7,8,9,10]])\n",
    "print(\"max according to rows(axis=0)\",np.amax(a3,axis=0))\n",
    "print(\"min according to column\",np.amin(a3,axis=1))\n",
    "print(\"sum according to rows\",a3.sum(axis=0))\n",
    "print(\"sum according to column\",a3.sum(axis=1))\n",
    "\n",
    "\n",
    "\n",
    "\n"
   ]
  },
  {
   "cell_type": "code",
   "execution_count": null,
   "metadata": {},
   "outputs": [],
   "source": [
    "#transform of string into list\n",
    "s=\"jyoti\"\n",
    "print(list(s))\n",
    "case=\"hello, my ,name ,is \".split(\",\")\n",
    "print(case)\n",
    "\n",
    "\n",
    "\n",
    "#reverse of the string \n",
    "print(\"reverse \",s[-1::-1])\n",
    "\n",
    "\n",
    "\n",
    "#list to string\n",
    "lis=['s','t','o','p']\n",
    "name_str=\"??\".join(lis)  #join is use to convert list to string\n",
    "print(name_str)\n",
    "\n",
    "\n",
    "#WHAT IS NEGATIVE INDEX IN python :\n",
    "print(\"extracting the element from the backside called negative indexing\")\n",
    "\n",
    "\n",
    "#without traversing complete array tell the last element \n",
    "a=[1,2,3,4,5]\n",
    "print(a[-1])\n",
    "\n",
    "\n",
    "\n",
    "#difference between list and tuple\n",
    "#synatx (2) list mutable and tuples immutable (3) list are slower and tuple is slower\n",
    "\n",
    "#differnce between python 2 and python3\n",
    "print(\"print is a function in python 3 but statemnt in python2,floating point in python3 (divide method),whereas in python 2 we get truncate value(divide time)\")"
   ]
  },
  {
   "cell_type": "code",
   "execution_count": 16,
   "metadata": {},
   "outputs": [
    {
     "name": "stdout",
     "output_type": "stream",
     "text": [
      "Representation of data in memory in hexadecimal form:\n",
      "<built-in function hex> [12 34 56 78]\n",
      "Applying byteswap() function:\n",
      "[ 3072  8704 14336 19968]\n",
      "In hexadecimal form:\n",
      "<map object at 0x000001BBA1608A90>\n"
     ]
    }
   ],
   "source": [
    "#byteswap\n",
    "import numpy as np \n",
    "a = np.array([12,34,56,78], dtype = np.int16) \n",
    "print ('Representation of data in memory in hexadecimal form:')  \n",
    "print (hex,a)  \n",
    "# byteswap() function swaps in place by passing True parameter \n",
    "\n",
    "print ('Applying byteswap() function:') \n",
    "print (a.byteswap(True))\n",
    "print ('In hexadecimal form:') \n",
    "print (map(hex,a))\n",
    "# We can see the bytes being swapped\n"
   ]
  },
  {
   "cell_type": "markdown",
   "metadata": {},
   "source": [
    "# sort vs argsort "
   ]
  },
  {
   "cell_type": "code",
   "execution_count": 25,
   "metadata": {},
   "outputs": [
    {
     "name": "stdout",
     "output_type": "stream",
     "text": [
      "[[ 0  2  3  5  7]\n",
      " [ 1  2  6  9 10]]\n",
      "\n",
      "\n",
      "[[ 3  1  0  2  2]\n",
      " [ 9  7 10  6  5]]\n",
      "\n",
      "\n",
      "[[ 0  2  3  5  7]\n",
      " [ 1  2  6  9 10]]\n",
      "\n",
      " after applying argsort()\n",
      "[[2 3 0 4 1]\n",
      " [1 4 3 0 2]]\n",
      "\n",
      "\n",
      "[ 3  7  2  5  9  1 10  2]\n",
      "\n",
      "\n"
     ]
    }
   ],
   "source": [
    "import numpy as np\n",
    "a=np.array([ [3,7,0,2,5],[9,1,10,6,2]])\n",
    "print(np.sort(a))\n",
    "print('\\n')\n",
    "print(np.sort(a,axis=0))\n",
    "print('\\n')\n",
    "print(np.sort(a,axis=1))\n",
    "\n",
    "\n",
    "#argsort() is use to return the indices of an array according to sort \n",
    "print('\\n after applying argsort()')\n",
    "u=np.argsort(a)\n",
    "print(u)\n",
    "\n",
    "print(\"\\n\")\n",
    "print(np.extract(u,a))\n",
    "print('\\n')\n"
   ]
  },
  {
   "cell_type": "code",
   "execution_count": 34,
   "metadata": {},
   "outputs": [
    {
     "name": "stdout",
     "output_type": "stream",
     "text": [
      "indices of an array [1 0 4 2 3]\n",
      "['deswal jyoti', 'gulia amit', 'jadeja dilbar', 'katiyar karan', 'malik sonu']\n"
     ]
    }
   ],
   "source": [
    "#lexsort()\n",
    "sur_names=('gulia','deswal','katiyar','malik','jadeja')\n",
    "f_name=('amit','jyoti','karan','sonu','dilbar')\n",
    "\n",
    "ind=np.lexsort((f_name,sur_names))\n",
    "print(\"indices of an array\",ind)\n",
    "print([sur_names[i]+ \" \"+f_name[i] for i in ind])"
   ]
  },
  {
   "cell_type": "code",
   "execution_count": 67,
   "metadata": {},
   "outputs": [
    {
     "name": "stdout",
     "output_type": "stream",
     "text": [
      "60\n",
      "0\n",
      "largest number found\n",
      "largest number found\n",
      "largest number found\n",
      "largest number found\n",
      "largest number found\n",
      "largest number found\n",
      "largest number found\n"
     ]
    }
   ],
   "source": [
    "import numpy as np\n",
    "a=np.array([40,10,50,60,0,1,2])\n",
    "print(a.max())\n",
    "print(a.min())\n",
    "largest=a[0]\n",
    "for i in range(0,len(a)):\n",
    "    if largest==a[0]:\n",
    "        print(\"largest number found\")\n",
    "    else:\n",
    "        print(\"not found\")"
   ]
  },
  {
   "cell_type": "code",
   "execution_count": 74,
   "metadata": {},
   "outputs": [
    {
     "name": "stdout",
     "output_type": "stream",
     "text": [
      "[7 8 9]\n",
      "[7 8 9]\n",
      "7\n"
     ]
    }
   ],
   "source": [
    "import numpy as np\n",
    "\n",
    "a = np.array([[3,7,5],[8,4,3],[2,4,9]]) \n",
    "\n",
    "print(np.max(a,1))\n",
    "print(np.amax(a,1))\n",
    "print(np.ptp(a))"
   ]
  },
  {
   "cell_type": "code",
   "execution_count": 93,
   "metadata": {},
   "outputs": [
    {
     "name": "stdout",
     "output_type": "stream",
     "text": [
      "[1 2 3]\n",
      "[ 1  2 20]\n",
      "[ 1  2 10]\n"
     ]
    }
   ],
   "source": [
    "\n",
    "#2 d array indexing and slicing /iteration\n",
    "b=np.array([[0,30,-1],[5,6,7]])\n",
    "print(b)\n",
    "print(\"***\")\n",
    "print(b[0:2,1])\n",
    "#mathematical operation \n",
    "print(\"sum of rows \",b.sum(axis=0))\n",
    "print(\"sum of columns\",b.sum(axis=1))\n",
    "print(\"standard deviation\",b.std(axis=1))\n",
    "print(\"sqaure root\",np.sqrt(b))\n",
    "print(\"sorting\",np.sort(b,axis=1))\n",
    "#boolean array indexing \n",
    "z=np.array([2,3,4,5,6,7,8])\n",
    "print(z>4)  #it will give boolean value \n",
    "print(z[z>4]) #it will give value "
   ]
  },
  {
   "cell_type": "code",
   "execution_count": null,
   "metadata": {},
   "outputs": [],
   "source": [
    "#np.flip(m,axis=0):reverse the elements in an array along with axes \n",
    "a=np.arange(24).reshape(6,4)\n",
    "print(a)\n",
    "print(np.flip(a,axis=0)) \n"
   ]
  },
  {
   "cell_type": "code",
   "execution_count": null,
   "metadata": {},
   "outputs": [],
   "source": [
    "#statistical function \n",
    "a=np.array([2,3,4,50,60,100])\n",
    "print(\"mimimum value\",np.amin(a))\n",
    "print(\"maximum value\",np.amax(a))\n",
    "#DIFFERENCE BEWTEEN amin and a.min(doe not work on order='C'/'F')\n",
    "print(\"maximum-minimum\",np.ptp(a))\n",
    "print(np.percentile(a,q=50))\n",
    "import numpy as np\n",
    "a=np.array([1,2,3])\n",
    "b=np.array([4,5,6])\n",
    "print(pow(a,b))\n",
    "print(np.mod(b,a))\n"
   ]
  },
  {
   "cell_type": "code",
   "execution_count": null,
   "metadata": {},
   "outputs": [],
   "source": [
    "import numpy as np\n",
    "print(np.__version__)\n",
    "ar1=np.array([1,2,3,4],dtype=bool)\n",
    "print(\"this is 1d  and boolean array\",ar1)\n",
    "#How to extract items that satisfy a given condition from 1D array?\n",
    "ar2=np.array([0,1,2,3,4,5,6,7,8,9])\n",
    "con=ar2%2==1\n",
    "print(np.extract(con,ar2))\n",
    "#How to replace items that satisfy a condition with another value in numpy array\n",
    "ar2[ar2%2==1]=-1\n",
    "print(ar2)\n",
    "#How to replace items that satisfy a condition without affecting the original array?\n",
    "arr = np.array([0, 1, 2, 3, 4, 5, 6, 7, 8, 9])\n",
    "res=arr.copy()\n",
    "res[res%2==1]=-1\n",
    "print(\"original array is same but cahnge only in new array\",res)\n",
    "#How to reshape an array?\n",
    "ar=np.arange(10).reshape(2,5)\n",
    "print(\"reshape of an array\",ar)\n",
    "#How to generate custom sequences in numpy without hardcoding?\n",
    "a=np.array([1,2,3])\n",
    "print(np.repeat(a,3)) #np.repeat(a,repeat,axis=None)\n",
    "print(\"another example\",np.repeat(3,4))  #it will repeat 3 as 4 times\n",
    "#How to get the common items between two python numpy arrays?\n",
    "a = np.array([1,2,3,2,3,4,3,4,5,6])\n",
    "b = np.array([7,2,10,2,7,4,9,4,9,8])\n",
    "print(np.intersect1d(a,b))\n",
    "#How to remove from one array those items that exist in another?\n",
    "print(\"find which item is not common\",np.setdiff1d(a,b))\n",
    "#How to get the positions where elements of two arrays match?\n",
    "print(\"where gives the indices \",np.where(a==b))\n",
    "#How to extract all numbers between a given range from a numpy array?\n",
    "a = np.array([2, 6, 1, 9, 10, 3, 27])\n",
    "index = np.where((a >= 5) & (a <= 10))\n",
    "print(a[index])\n",
    "#How to create a 2D array containing random floats between 5 and 10?\n",
    "import random \n",
    "rand_value=np.random.randint(low=5,high=10,size=(5,3))\n",
    "print(\"random value in integer form\",rand_value)\n",
    "another_way=np.random.uniform(5,10,size=(5,3))\n",
    "#print(\"floating point random generator\",another_way)\n",
    "#How to print only 3 decimal places in python numpy array?\n",
    "print(np.set_printoptions(precision=2))\n",
    "#print(another_way[:5])\n",
    "#How to limit the number of items printed in output of numpy array?\n",
    "np.set_printoptions(threshold=6)\n",
    "a = np.arange(15)\n",
    "print(\"like how many values you want to print\",a)\n",
    "#How to print the full numpy array without truncating\n",
    "np.set_printoptions(threshold=np.nan)\n",
    "b=np.arange(10)\n",
    "print(b)\n",
    "np.set_printoptions(threshold=6)\n",
    "a=np.arange(15)\n",
    "print(\"example od array with truncating\",a)\n"
   ]
  },
  {
   "cell_type": "markdown",
   "metadata": {},
   "source": [
    "# universal function "
   ]
  },
  {
   "cell_type": "code",
   "execution_count": null,
   "metadata": {},
   "outputs": [],
   "source": [
    "#in numpy mathematical functions such as sin,cos and exp are called \"universal function\"\n",
    "#these functions operate element wise on array and produces array as output\n",
    "a=np.array([1,2,3,4])\n",
    "np.exp(a)\n",
    "\n",
    "np.sqrt(a)\n",
    "\n",
    "#2-dim array \n",
    "b=np.arange(12).reshape(3,4)\n",
    "np.sqrt(b)"
   ]
  },
  {
   "cell_type": "markdown",
   "metadata": {},
   "source": [
    "# copy and views "
   ]
  },
  {
   "cell_type": "code",
   "execution_count": null,
   "metadata": {},
   "outputs": [],
   "source": [
    "#when contents are physically stored in another location called copy \n",
    "import numpy as np\n",
    "a=np.arange(12)\n",
    "b=a      #no new object is created \n",
    "print(a)\n",
    "b is a     #both are same  instance\n",
    "b.shape=3,4   #let's try to cahnge the shape\n",
    "b\n",
    "a.shape      \n",
    "b.shape         #here both are referencing to same instance of obejct"
   ]
  },
  {
   "cell_type": "code",
   "execution_count": null,
   "metadata": {},
   "outputs": [],
   "source": [
    "#view or shallow copy\n",
    "#it creates  a new array obejct same as original but   in this case  changing the shape of 'C'  does not change shape of a\n",
    "a=np.arange(12)\n",
    "c=a.view()\n",
    "print(\"new view\",c)\n",
    "#change the shape of c     #shape does not change of original array \n",
    "c.shape=4,3\n",
    "print(\"shape of c is\",c.shape)\n",
    "print(\"shape of original array\",a.shape)"
   ]
  },
  {
   "cell_type": "code",
   "execution_count": null,
   "metadata": {},
   "outputs": [],
   "source": [
    "#deep copy \n",
    "a=np.array( [[10,10],[2,3],[4,5]])\n",
    "print(\"original array \\n\",a)\n",
    "\n",
    "b=a.copy()\n",
    "print(\"copy of original array\",b)\n",
    "\n",
    "#b does not share the memory of  a \n",
    "print(b is a)\n",
    "b[0,0]=100\n",
    "print(\"after modifying the array\",b)\n",
    "print(\"remains unchanged \",a)"
   ]
  },
  {
   "cell_type": "code",
   "execution_count": null,
   "metadata": {},
   "outputs": [],
   "source": []
  },
  {
   "cell_type": "code",
   "execution_count": null,
   "metadata": {},
   "outputs": [],
   "source": []
  },
  {
   "cell_type": "code",
   "execution_count": null,
   "metadata": {},
   "outputs": [],
   "source": []
  },
  {
   "cell_type": "code",
   "execution_count": null,
   "metadata": {},
   "outputs": [],
   "source": []
  },
  {
   "cell_type": "code",
   "execution_count": null,
   "metadata": {},
   "outputs": [],
   "source": []
  },
  {
   "cell_type": "code",
   "execution_count": null,
   "metadata": {},
   "outputs": [],
   "source": []
  },
  {
   "cell_type": "code",
   "execution_count": null,
   "metadata": {},
   "outputs": [],
   "source": []
  },
  {
   "cell_type": "code",
   "execution_count": null,
   "metadata": {},
   "outputs": [],
   "source": []
  },
  {
   "cell_type": "code",
   "execution_count": null,
   "metadata": {},
   "outputs": [],
   "source": []
  },
  {
   "cell_type": "code",
   "execution_count": null,
   "metadata": {},
   "outputs": [],
   "source": []
  },
  {
   "cell_type": "code",
   "execution_count": null,
   "metadata": {},
   "outputs": [],
   "source": []
  },
  {
   "cell_type": "code",
   "execution_count": null,
   "metadata": {},
   "outputs": [],
   "source": []
  },
  {
   "cell_type": "code",
   "execution_count": null,
   "metadata": {},
   "outputs": [],
   "source": []
  },
  {
   "cell_type": "code",
   "execution_count": null,
   "metadata": {},
   "outputs": [],
   "source": []
  }
 ],
 "metadata": {
  "kernelspec": {
   "display_name": "Python 3",
   "language": "python",
   "name": "python3"
  },
  "language_info": {
   "codemirror_mode": {
    "name": "ipython",
    "version": 3
   },
   "file_extension": ".py",
   "mimetype": "text/x-python",
   "name": "python",
   "nbconvert_exporter": "python",
   "pygments_lexer": "ipython3",
   "version": "3.7.3"
  }
 },
 "nbformat": 4,
 "nbformat_minor": 2
}
