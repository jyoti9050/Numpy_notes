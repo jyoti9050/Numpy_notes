{
 "cells": [
  {
   "cell_type": "code",
   "execution_count": null,
   "metadata": {},
   "outputs": [],
   "source": [
    "import numpy as np\n",
    "#pandas and numpy both are core structure to handle the data,and both are use for dealing with data \n",
    "#scipy deals for modelling data\n",
    "print(\"numpy stands for numerical python,\\n it is the package for mathematical computing.\\n logical operations on arrays.\\\"data in the matrices form means rows and column\")\n",
    "#basic ndarray\n",
    "print(\" deals with multidimensional array,how to represent data \")\n",
    "print(\"homogenous collection of data\")\n",
    "print(\"fast and efficient\")\n",
    "print(\"support for mathematical functions\")\n"
   ]
  },
  {
   "cell_type": "markdown",
   "metadata": {},
   "source": [
    "# load numpy  "
   ]
  },
  {
   "cell_type": "code",
   "execution_count": null,
   "metadata": {},
   "outputs": [],
   "source": [
    "import numpy as np\n",
    "import matplotlib.pyplot as plt \n"
   ]
  },
  {
   "cell_type": "code",
   "execution_count": 6,
   "metadata": {},
   "outputs": [
    {
     "name": "stdout",
     "output_type": "stream",
     "text": [
      "array creation [1 2 3 4 5 6]\n",
      "know the type of array <class 'numpy.ndarray'>\n",
      "1-dim array [1 2 3 4 5]\n",
      "2-dim array\n",
      " [[1 2 3 4]\n",
      " [5 6 7 8]]\n"
     ]
    }
   ],
   "source": [
    "#create numpy array from python list\n",
    "import numpy as np\n",
    "l=[1,2,3,4,5,6]\n",
    "ar1=np.array(l)\n",
    "print(\"array creation\",ar1)\n",
    "\n",
    "\n",
    "print(\"know the type of array\",type(ar1))\n",
    "\n",
    "\n",
    "#1dim array\n",
    "a=np.array([1,2,3,4,5])\n",
    "print(\"1-dim array\",a)\n",
    "\n",
    "#2 dim array \n",
    "a2=np.array([[1,2,3,4],[5,6,7,8]])\n",
    "print(\"2-dim array\\n\",a2)\n",
    "\n"
   ]
  },
  {
   "cell_type": "code",
   "execution_count": null,
   "metadata": {},
   "outputs": [],
   "source": []
  },
  {
   "cell_type": "code",
   "execution_count": 4,
   "metadata": {},
   "outputs": [
    {
     "data": {
      "text/plain": [
       "array([[1, 2],\n",
       "       [3, 4],\n",
       "       [5, 6]])"
      ]
     },
     "execution_count": 4,
     "metadata": {},
     "output_type": "execute_result"
    }
   ],
   "source": [
    "#from numpy matrix to numpy array\n",
    "np.array(np.mat('1 2;3 4;5 6'))"
   ]
  },
  {
   "cell_type": "markdown",
   "metadata": {},
   "source": [
    "# Type casting /type conversion\n"
   ]
  },
  {
   "cell_type": "code",
   "execution_count": 22,
   "metadata": {},
   "outputs": [
    {
     "name": "stdout",
     "output_type": "stream",
     "text": [
      "[1. 2. 3.]\n",
      "\n",
      "\n",
      "[1. 2. 3.]\n",
      "[1.+0.j 2.+0.j 3.+0.j]\n",
      "['1234' '4' '5']\n",
      "['12' '2' '3']\n",
      "*****example***********\n",
      "row1 ('ram', 26, 2300.)\n",
      "row2 ('shivam', 31, 5000.)\n"
     ]
    }
   ],
   "source": [
    "a=np.array([1,2,3.0])\n",
    "#type casting means just like in list we have homogenous data it will take as it is but in array any one of value is another type then it will change all other data type automatically \n",
    "\n",
    "#in this example a have float value if we will print this it will print float value all \n",
    "print(a)\n",
    "print(\"\\n\")\n",
    "#how to control this behaviour :we can explicitly defined data type \n",
    "print(np.array([1,2,3],dtype=float))\n",
    "print(np.array([1,2,3],dtype=complex))\n",
    "print(np.array([1234,4,5],dtype='U'))  #'U' STRING TYPE \n",
    "print(np.array([1234,2,3],dtype='<U2'))\n",
    "\n",
    "print(\"*****example***********\")\n",
    "x=np.array([('ram',26,2300.0),('shivam',31,5000)],dtype=[('name','<U11'),('age','int32'),('salary','<f4')])\n",
    "print(\"row1\",x[0])\n",
    "print(\"row2\",x[1])"
   ]
  },
  {
   "cell_type": "markdown",
   "metadata": {},
   "source": [
    "# BASIC FUNCTIONALITY "
   ]
  },
  {
   "cell_type": "code",
   "execution_count": 28,
   "metadata": {},
   "outputs": [
    {
     "name": "stdout",
     "output_type": "stream",
     "text": [
      "shape of an array rows*column (2, 5)\n",
      "dimension of an array 2\n",
      "no of elements of an array 10\n"
     ]
    }
   ],
   "source": [
    "a=np.array([[1,2,3,4,5],[6,7,8,9,10]])\n",
    "print(\"shape of an array rows*column\",a.shape)\n",
    "print(\"dimension of an array\",a.ndim)\n",
    "print(\"no of elements of an array\",a.size)"
   ]
  },
  {
   "cell_type": "code",
   "execution_count": 32,
   "metadata": {},
   "outputs": [
    {
     "data": {
      "text/plain": [
       "3"
      ]
     },
     "execution_count": 32,
     "metadata": {},
     "output_type": "execute_result"
    }
   ],
   "source": [
    "#3 dim array\n",
    "import numpy as np\n",
    "b=np.arange(100).reshape(2,5,10)\n",
    "b.shape     #2 array ,5 rows and 10 columns\n",
    "b.size              #total number of elements\n",
    "b.ndim             #tellthe dimension"
   ]
  },
  {
   "cell_type": "markdown",
   "metadata": {},
   "source": [
    "# numpy important functions \n"
   ]
  },
  {
   "cell_type": "code",
   "execution_count": 33,
   "metadata": {},
   "outputs": [
    {
     "data": {
      "text/plain": [
       "array([[0., 0., 0., 0.],\n",
       "       [0., 0., 0., 0.],\n",
       "       [0., 0., 0., 0.]])"
      ]
     },
     "execution_count": 33,
     "metadata": {},
     "output_type": "execute_result"
    }
   ],
   "source": [
    "#np.zeros(shape,order='C'/'F',dtype=None):creates an array full of zeros   C-COLUMN,F -ROW/shhape is just a tuple \n",
    "np.zeros( (3,4))"
   ]
  },
  {
   "cell_type": "code",
   "execution_count": 36,
   "metadata": {},
   "outputs": [
    {
     "data": {
      "text/plain": [
       "array([[[1, 1, 1, 1],\n",
       "        [1, 1, 1, 1],\n",
       "        [1, 1, 1, 1]],\n",
       "\n",
       "       [[1, 1, 1, 1],\n",
       "        [1, 1, 1, 1],\n",
       "        [1, 1, 1, 1]]], dtype=int16)"
      ]
     },
     "execution_count": 36,
     "metadata": {},
     "output_type": "execute_result"
    }
   ],
   "source": [
    "#np.ones(shape,order='C'/'F',dtype=None) creates an array full of ones \n",
    "np.ones( (2,3,4),dtype=np.int16)"
   ]
  },
  {
   "cell_type": "code",
   "execution_count": 37,
   "metadata": {},
   "outputs": [
    {
     "data": {
      "text/plain": [
       "array([[0., 0., 0.],\n",
       "       [0., 0., 0.]])"
      ]
     },
     "execution_count": 37,
     "metadata": {},
     "output_type": "execute_result"
    }
   ],
   "source": [
    "#np.empty(shape,dtype,order):creates an array whose initial content is random \n",
    "np.empty((2,3))    #uninitialized output may vary \n"
   ]
  },
  {
   "cell_type": "code",
   "execution_count": 42,
   "metadata": {},
   "outputs": [
    {
     "data": {
      "text/plain": [
       "array([[0., 1., 0., 0., 0., 0.],\n",
       "       [0., 0., 1., 0., 0., 0.],\n",
       "       [0., 0., 0., 1., 0., 0.],\n",
       "       [0., 0., 0., 0., 1., 0.],\n",
       "       [0., 0., 0., 0., 0., 1.],\n",
       "       [0., 0., 0., 0., 0., 0.]])"
      ]
     },
     "execution_count": 42,
     "metadata": {},
     "output_type": "execute_result"
    }
   ],
   "source": [
    "#np.eye(shape,k=0,dtype,order) :create an identity matrix with the shape bydefault float type \n",
    "np.eye(6)   #sqaure matrix :means rows and columns are same \n",
    "np.eye(6,k=1)"
   ]
  },
  {
   "cell_type": "code",
   "execution_count": 49,
   "metadata": {},
   "outputs": [
    {
     "name": "stdout",
     "output_type": "stream",
     "text": [
      "[[1 2 3]\n",
      " [5 6 7]]\n",
      "\n",
      "\n",
      "[2 7]\n"
     ]
    }
   ],
   "source": [
    "arr=np.array([[1,2,3],[5,6,7]])\n",
    "print(arr)\n",
    "print(\"\\n\")\n",
    "print(np.diag(arr,k=1))    #diagonal of this array"
   ]
  },
  {
   "cell_type": "markdown",
   "metadata": {},
   "source": [
    "# range vs aranage vs linspace"
   ]
  },
  {
   "cell_type": "code",
   "execution_count": 58,
   "metadata": {},
   "outputs": [
    {
     "name": "stdout",
     "output_type": "stream",
     "text": [
      "[11, 10, 9, 8, 7, 6, 5, 4, 3, 2, 1]\n",
      "[0, 1, 2, 3, 4, 5, 6, 7, 8, 9]\n"
     ]
    }
   ],
   "source": [
    "import numpy as np\n",
    "a=list(range(10))\n",
    "a     #it will create a list of the values what we want    \n",
    "#create only range  and does not accept float arguments \n",
    "print(list(range(11,0,-1)))\n"
   ]
  },
  {
   "cell_type": "code",
   "execution_count": 59,
   "metadata": {},
   "outputs": [
    {
     "name": "stdout",
     "output_type": "stream",
     "text": [
      "[10.  15.4 20.8 26.2 31.6 37.  42.4 47.8 53.2 58.6 64.  69.4 74.8 80.2\n",
      " 85.6 91.  96.4]\n"
     ]
    }
   ],
   "source": [
    "#arange :np.arange(start,stop,step)   #it will give matrix and range will give output in the list format \n",
    "#to create a sequence of numbers ,Numpy provides a function analogous to range that returns that arrays \n",
    "import  numpy as np\n",
    "a=np.arange(10,100,5.4)   #not include stop element \n",
    "print(a)                  #accept float argument \n",
    "#when we use floating point argumnets ,generally it is impossible to predict no. of elements obtained thats why we use linsapce "
   ]
  },
  {
   "cell_type": "code",
   "execution_count": 69,
   "metadata": {},
   "outputs": [
    {
     "name": "stdout",
     "output_type": "stream",
     "text": [
      "linspace return  values within given interval\n",
      "(array([ 1. , 10.9, 20.8, 30.7, 40.6, 50.5, 60.4, 70.3, 80.2, 90.1]), 9.9)\n"
     ]
    },
    {
     "data": {
      "image/png": "[encoded data removed]",
      "text/plain": [
       "<Figure size 432x288 with 1 Axes>"
      ]
     },
     "metadata": {
      "needs_background": "light"
     },
     "output_type": "display_data"
    }
   ],
   "source": [
    "#np.linspace(start,stop,number,endpoint=Flase/True,restep=True,False,dtype)\n",
    "print(\"linspace return  values within given interval\")\n",
    "b=np.linspace(1,100,10,endpoint=False,retstep=True)\n",
    "print(b)\n",
    "#bydefaultendpoint=True it include stop element butvendpoint=False(not include last element) \n",
    "#when retstep=True   tell how much difference between each value \n",
    "\n",
    "\n",
    "import numpy as np\n",
    "import pandas as pd\n",
    "import matplotlib.pyplot as plt \n",
    "from math import pi,cos,sin\n",
    "x=np.linspace(0,2*pi,100)\n",
    "y=np.sin(x)\n",
    "plt.plot(y)\n",
    "plt.show()"
   ]
  },
  {
   "cell_type": "markdown",
   "metadata": {},
   "source": [
    "# printing arrays "
   ]
  },
  {
   "cell_type": "code",
   "execution_count": null,
   "metadata": {},
   "outputs": [],
   "source": [
    "#m-dim numpy arrays are shown similar to nested lists with following layout:\n",
    "print(\"last axis is printed left to right\")\n",
    "print(\"second last is printd from top to bottom\")\n",
    "print(\"remaining dimesnions are printed from top to bottom,with empty line\")"
   ]
  },
  {
   "cell_type": "code",
   "execution_count": 72,
   "metadata": {},
   "outputs": [
    {
     "name": "stdout",
     "output_type": "stream",
     "text": [
      "[0 1 2 3 4 5 6 7 8]\n",
      "[[[ 0  1  2]\n",
      "  [ 3  4  5]]\n",
      "\n",
      " [[ 6  7  8]\n",
      "  [ 9 10 11]]]\n"
     ]
    }
   ],
   "source": [
    "#reshape an array :change the shape of an array \n",
    "a=np.arange(9)\n",
    "print(a) \n",
    "b=np.arange(12).reshape(2,2,3)   #3-d array \n",
    "print(b)   #2 array ,2 rows and 3 column"
   ]
  },
  {
   "cell_type": "code",
   "execution_count": 85,
   "metadata": {},
   "outputs": [
    {
     "name": "stdout",
     "output_type": "stream",
     "text": [
      "[   0    1    2 ... 9997 9998 9999]\n",
      "None\n"
     ]
    }
   ],
   "source": [
    "print(np.arange(10000))   #it will print [0,1,2.......9999]  it's try to save memory\n",
    "#if size of array is very large ,Numpy automatically tries limit the printing on screen.we can override this behaviour by setting print options\n",
    "print(np.set_printoptions(threshold=1000))\n",
    "#print(np.arange(1000))"
   ]
  },
  {
   "cell_type": "markdown",
   "metadata": {},
   "source": [
    "# Random number generation "
   ]
  },
  {
   "cell_type": "code",
   "execution_count": 88,
   "metadata": {},
   "outputs": [
    {
     "name": "stdout",
     "output_type": "stream",
     "text": [
      "Random number genaration(from uniform distribution)\n",
      "[[0.8464664  0.08586881 0.20501905]\n",
      " [0.44812712 0.64327663 0.38770699]]\n",
      "numbers from normal distribution with 0 mean and std  i.e standard normal\n",
      "[-2.18219284  0.36762806  1.43269868 -0.08232878 -1.53996993  1.97412346\n",
      "  1.61678654 -0.02953793 -1.56374689 -1.57662901]\n"
     ]
    }
   ],
   "source": [
    "#2 by 3 matrix with random numbers ranging from 0 to1,Note::: not uple is necessary\n",
    "\n",
    "import random\n",
    "print(\"Random number genaration(from uniform distribution)\")\n",
    "print(np.random.rand(2,3))\n",
    "\n",
    "\n",
    "print(\"numbers from normal distribution with 0 mean and std  i.e standard normal\")\n",
    "print(np.random.randn(10))"
   ]
  },
  {
   "cell_type": "code",
   "execution_count": 107,
   "metadata": {},
   "outputs": [
    {
     "name": "stdout",
     "output_type": "stream",
     "text": [
      "0.11389457279351267\n",
      "random.uniform(a,b) use to generate 1 floating point number.... 1.4505821145685012\n",
      "for generating integer value...... 3\n",
      "choice is use to pick random value from list at every time************ is\n",
      "['black', 'red', 'black', 'red', 'black', 'red', 'red', 'black', 'black', 'black', 'black', 'green']\n",
      "[30, 38, 35, 46, 15, 11, 21, 39, 10, 50, 29, 1, 25, 49, 9, 34, 45, 37, 33, 19, 22, 51, 24, 5, 28, 48, 26, 43, 42, 3, 52, 13, 14, 20, 41, 8, 32, 17, 40, 2, 27, 47, 6, 23, 12, 44, 18, 31, 7, 16, 36, 4]\n",
      "[29, 39, 40, 23, 28]\n"
     ]
    }
   ],
   "source": [
    "import random \n",
    "values=random.random()  #when a,b values not specify it will generate random value between 01 nd 1 but not include 1\n",
    "print(values)\n",
    "\n",
    "\n",
    "values2=random.uniform(1,6)  \n",
    "print(\"random.uniform(a,b) use to generate 1 floating point number....\",values2)\n",
    "\n",
    "values3=random.randint(1,6)\n",
    "print(\"for generating integer value......\",values3)\n",
    "\n",
    "lis=[\"my\",'name','is','jyoti','and', 'i','am','learning','python']\n",
    "value4=random.choice(lis)\n",
    "print(\"choice is use to pick random value from list at every time************\",value4)\n",
    "\n",
    "#want to choose multiple values from the list use random.choices(lisname,k=10) k=10 how manytimes want to pick random values\n",
    "colors=[\"red\",\"black\",\"green\"]\n",
    "result=random.choices(colors,weights=[18,18,2],k=12)\n",
    "print(result)\n",
    "\n",
    "\n",
    "#deck of cards \n",
    "import random\n",
    "deck=list(range(1,53))       \n",
    "random.shuffle(deck)\n",
    "print(deck)\n",
    "\n",
    "\n",
    "hand=random.sample(deck,k=5)  #sample() will give in result as a unique value but choices will give repeteadly values \n",
    "print(hand)\n"
   ]
  },
  {
   "cell_type": "code",
   "execution_count": 108,
   "metadata": {},
   "outputs": [
    {
     "name": "stdout",
     "output_type": "stream",
     "text": [
      "\n",
      "20 samples drwan from a dice throw\n",
      "[6 3 3 6 4 5 3 4 4 6 5 3 4 1 2 4 5 2 6 3]\n"
     ]
    }
   ],
   "source": [
    "arr=np.random.randn(4,3)\n",
    "arr.std()\n",
    "arr.mean()\n",
    "\n",
    "\n",
    "print(\"\\n20 samples drwan from a dice throw\")\n",
    "print(np.random.randint(1,7,20))"
   ]
  },
  {
   "cell_type": "markdown",
   "metadata": {},
   "source": [
    "# Basic operations "
   ]
  },
  {
   "cell_type": "code",
   "execution_count": 11,
   "metadata": {},
   "outputs": [
    {
     "name": "stdout",
     "output_type": "stream",
     "text": [
      "[20 30 40 50]\n",
      "[1 2 3 4]\n",
      "add [21 32 43 54]\n",
      "sub [19 28 37 46]\n",
      "mul [ 20  60 120 200]\n",
      "divide [20.         15.         13.33333333 12.5       ]\n",
      "******************\n",
      "[19 28 37 46]\n",
      "[21 32 43 54]\n",
      "[ 20  60 120 200]\n",
      "[20.         15.         13.33333333 12.5       ]\n",
      "[0 0 0 0]\n",
      "[     20     900   64000 6250000]\n"
     ]
    },
    {
     "data": {
      "text/plain": [
       "array([0, 0, 1, 2], dtype=int32)"
      ]
     },
     "execution_count": 11,
     "metadata": {},
     "output_type": "execute_result"
    }
   ],
   "source": [
    "#in numpy we perform operations element wise \n",
    "import numpy as np\n",
    "a=np.array([20,30,40,50])\n",
    "b=np.arange(1,5)\n",
    "print(a)\n",
    "print(b)\n",
    "#element wise airthmetic operations\n",
    "print(\"add\",a+b)\n",
    "print(\"sub\",a-b)\n",
    "print(\"mul\",a*b)\n",
    "print(\"divide\",a/b)\n",
    "print(\"******************\")\n",
    "#another way \n",
    "print(np.subtract(a,b))\n",
    "print(np.add(a,b))\n",
    "print(np.multiply(a,b))\n",
    "print(np.divide(a,b))\n",
    "print(np.reciprocal(a))\n",
    "\n",
    "\n",
    "res=np.power(a,b)\n",
    "print(res)\n",
    "\n",
    "np.mod(a,b)  \n",
    "np.remainder(a,b)"
   ]
  },
  {
   "cell_type": "markdown",
   "metadata": {},
   "source": [
    "# airthmatic operations with scalar values"
   ]
  },
  {
   "cell_type": "code",
   "execution_count": 14,
   "metadata": {},
   "outputs": [
    {
     "data": {
      "text/plain": [
       "array([ True,  True,  True,  True,  True])"
      ]
     },
     "execution_count": 14,
     "metadata": {},
     "output_type": "execute_result"
    }
   ],
   "source": [
    "b=np.arange(1,6)\n",
    "b**2\n",
    "b+10\n",
    "b<35          #apply logical operator "
   ]
  },
  {
   "cell_type": "markdown",
   "metadata": {},
   "source": [
    "# matrix operations"
   ]
  },
  {
   "cell_type": "code",
   "execution_count": 18,
   "metadata": {},
   "outputs": [
    {
     "name": "stdout",
     "output_type": "stream",
     "text": [
      "[[1 1]\n",
      " [0 1]]\n",
      "____________\n",
      "[[2 0]\n",
      " [3 4]]\n",
      "[[3 1]\n",
      " [3 5]]\n",
      "scalar value addition\n"
     ]
    },
    {
     "data": {
      "text/plain": [
       "array([[11, 11],\n",
       "       [10, 11]])"
      ]
     },
     "execution_count": 18,
     "metadata": {},
     "output_type": "execute_result"
    }
   ],
   "source": [
    "import numpy as np\n",
    "a1=np.array([[1,1],[0,1]])\n",
    "b1=np.array([[2,0],[3,4]])\n",
    "print(a1)\n",
    "print(\"____________\")\n",
    "print(b1)\n",
    "print(np.add(a1,b1))\n",
    "print(\"scalar value addition\")\n",
    "a1+10"
   ]
  },
  {
   "cell_type": "code",
   "execution_count": 24,
   "metadata": {},
   "outputs": [
    {
     "name": "stdout",
     "output_type": "stream",
     "text": [
      "[[2 3]\n",
      " [1 4]]\n",
      "[[6 4]\n",
      " [7 5]]\n",
      "[[33 23]\n",
      " [34 24]]\n",
      "***********\n"
     ]
    },
    {
     "data": {
      "text/plain": [
       "array([[33, 23],\n",
       "       [34, 24]])"
      ]
     },
     "execution_count": 24,
     "metadata": {},
     "output_type": "execute_result"
    }
   ],
   "source": [
    "#matrix maultiplication\n",
    "a2=np.array([[2,3],[1,4]])\n",
    "print(a2)\n",
    "b2=np.array([[6,4],[7,5]]) \n",
    "print(b2)\n",
    "print(a2.dot(b2))\n",
    "print(\"***********\")\n",
    "np.dot(a2,b2)   #this is a method in which we give array "
   ]
  },
  {
   "cell_type": "code",
   "execution_count": null,
   "metadata": {},
   "outputs": [],
   "source": [
    "#some operation such as += and *= act in place to modify an existing array rather than create a new one"
   ]
  },
  {
   "cell_type": "code",
   "execution_count": 36,
   "metadata": {},
   "outputs": [
    {
     "name": "stdout",
     "output_type": "stream",
     "text": [
      "sum of elements 66\n",
      "minimum number 0\n",
      "maximum value 11\n",
      "mean 5.5\n",
      "std of elements 3.452052529534663\n",
      "*******\n",
      "[[ 0  1  2  3]\n",
      " [ 4  5  6  7]\n",
      " [ 8  9 10 11]]\n",
      "*************\n",
      "[12 15 18 21]\n",
      "[1.11803399 1.11803399 1.11803399]\n",
      "[ 0  1  3  6 10 15 21 28 36 45 55 66]\n",
      "\n",
      "\n",
      "[[ 0  1  2  3]\n",
      " [ 4  6  8 10]\n",
      " [12 15 18 21]]\n"
     ]
    }
   ],
   "source": [
    "a=np.arange(12).reshape(3,4)\n",
    "print(\"sum of elements\",a.sum())\n",
    "print(\"minimum number\",a.min())\n",
    "print(\"maximum value\",a.max())\n",
    "print(\"mean\",a.mean())\n",
    "print(\"std of elements\",a.std())\n",
    "\n",
    "\n",
    "\n",
    "\n",
    "\n",
    "#if we specify axis,it will perform operation according to rows and columns \n",
    "print(\"*******\")\n",
    "print(a)\n",
    "print(\"*************\")\n",
    "#according to axis \n",
    "print(a.sum(axis=0))   #axis=1 means(column),axis=0 row\n",
    "print(a.std(axis=1))\n",
    "print(a.cumsum())\n",
    "print(\"\\n\")\n",
    "print(a.cumsum(axis=0))"
   ]
  },
  {
   "cell_type": "code",
   "execution_count": null,
   "metadata": {},
   "outputs": [],
   "source": []
  },
  {
   "cell_type": "code",
   "execution_count": null,
   "metadata": {},
   "outputs": [],
   "source": []
  },
  {
   "cell_type": "code",
   "execution_count": null,
   "metadata": {},
   "outputs": [],
   "source": []
  },
  {
   "cell_type": "code",
   "execution_count": null,
   "metadata": {},
   "outputs": [],
   "source": []
  },
  {
   "cell_type": "code",
   "execution_count": null,
   "metadata": {},
   "outputs": [],
   "source": []
  },
  {
   "cell_type": "code",
   "execution_count": null,
   "metadata": {},
   "outputs": [],
   "source": []
  },
  {
   "cell_type": "code",
   "execution_count": null,
   "metadata": {},
   "outputs": [],
   "source": []
  },
  {
   "cell_type": "code",
   "execution_count": null,
   "metadata": {},
   "outputs": [],
   "source": []
  }
 ],
 "metadata": {
  "kernelspec": {
   "display_name": "Python 3",
   "language": "python",
   "name": "python3"
  },
  "language_info": {
   "codemirror_mode": {
    "name": "ipython",
    "version": 3
   },
   "file_extension": ".py",
   "mimetype": "text/x-python",
   "name": "python",
   "nbconvert_exporter": "python",
   "pygments_lexer": "ipython3",
   "version": "3.7.3"
  }
 },
 "nbformat": 4,
 "nbformat_minor": 2
}
